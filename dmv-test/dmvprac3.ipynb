{
 "cells": [
  {
   "cell_type": "code",
   "execution_count": null,
   "id": "d9c4ea57-4f47-4722-8e9a-5d948144062c",
   "metadata": {},
   "outputs": [],
   "source": [
    "import pandas as pd #data manipulation\n",
    "import numpy as np #numerical computations\n",
    "from sklearn.model_selection import train_test_split \n",
    "from sklearn import metrics"
   ]
  },
  {
   "cell_type": "code",
   "execution_count": null,
   "id": "f97c673e-c470-41de-90d0-532a60305978",
   "metadata": {},
   "outputs": [],
   "source": [
    "data = pd.read_csv(\"../DMV/datasets/Telcom_Customer_Churn.csv\")\n",
    "data.index"
   ]
  },
  {
   "cell_type": "code",
   "execution_count": null,
   "id": "13e5d9ba-53f3-4915-8e76-c5b973ca3451",
   "metadata": {},
   "outputs": [],
   "source": [
    "data"
   ]
  },
  {
   "cell_type": "code",
   "execution_count": null,
   "id": "0d2c198b-1076-4293-85d1-c8205d793d00",
   "metadata": {},
   "outputs": [],
   "source": [
    "data.columns"
   ]
  },
  {
   "cell_type": "code",
   "execution_count": null,
   "id": "0ffae4a3-e1ab-4992-b3b3-5d8e3d9f78e6",
   "metadata": {},
   "outputs": [],
   "source": [
    "data.shape"
   ]
  },
  {
   "cell_type": "code",
   "execution_count": null,
   "id": "8d66416c-03bc-4327-8708-ebe37d3cfaae",
   "metadata": {},
   "outputs": [],
   "source": [
    "data.head()"
   ]
  },
  {
   "cell_type": "code",
   "execution_count": null,
   "id": "f35e04c2-ee3a-4dbd-adfe-1468cb3ef8c0",
   "metadata": {},
   "outputs": [],
   "source": [
    "data.nunique()"
   ]
  },
  {
   "cell_type": "code",
   "execution_count": null,
   "id": "37f76ccd-3ba4-4369-82e3-57a3573cf977",
   "metadata": {},
   "outputs": [],
   "source": [
    "data.isna().sum()\n",
    "data.isnull().sum()"
   ]
  },
  {
   "cell_type": "code",
   "execution_count": null,
   "id": "851274a6-379c-4f93-bef9-60015294ab8c",
   "metadata": {},
   "outputs": [],
   "source": [
    "print(\"Number of rows before removing duplicates:\", len(data))"
   ]
  },
  {
   "cell_type": "code",
   "execution_count": null,
   "id": "de0e7606-8b0e-4b05-8c4b-5037946154ec",
   "metadata": {},
   "outputs": [],
   "source": [
    "data_cleaned = data.drop_duplicates()"
   ]
  },
  {
   "cell_type": "code",
   "execution_count": null,
   "id": "01b823d7-26bc-414a-8299-92736fab044e",
   "metadata": {},
   "outputs": [],
   "source": [
    "print(\"Number of rows after removing duplicates:\", len(data_cleaned))"
   ]
  },
  {
   "cell_type": "code",
   "execution_count": null,
   "id": "db37845b-580b-418b-89c9-c15681f65763",
   "metadata": {},
   "outputs": [],
   "source": [
    "data.describe()"
   ]
  },
  {
   "cell_type": "code",
   "execution_count": null,
   "id": "8d39437d-9922-4680-af60-bb61f8ab13d9",
   "metadata": {},
   "outputs": [],
   "source": [
    "unique, counts = np.unique(data['tenure'], return_counts=True)\n",
    "print(unique, counts)         #Measure of frequency destribution"
   ]
  },
  {
   "cell_type": "code",
   "execution_count": null,
   "id": "62e3306b-e25f-4adc-afb4-a7b055c1d945",
   "metadata": {},
   "outputs": [],
   "source": [
    "#Measure of frequency destribution\n",
    "unique, counts = np.unique(data['MonthlyCharges'], return_counts=True)\n",
    "print(unique, counts)"
   ]
  },
  {
   "cell_type": "code",
   "execution_count": null,
   "id": "a5e72bcf-bf77-40e3-8ae6-883848b4f7bc",
   "metadata": {},
   "outputs": [],
   "source": [
    "#Measure of frequency destribution\n",
    "unique, counts = np.unique(data['TotalCharges'], return_counts=True)\n",
    "print(unique, counts)"
   ]
  },
  {
   "cell_type": "code",
   "execution_count": null,
   "id": "5e9b1ab4-8c1a-4e57-820e-0ab696093162",
   "metadata": {},
   "outputs": [],
   "source": [
    "import seaborn as sns       #Seaborn library for data visualization\n",
    "sns.pairplot(data)"
   ]
  },
  {
   "cell_type": "code",
   "execution_count": null,
   "id": "be34fc28-6349-48a1-abae-629b1f9a1382",
   "metadata": {},
   "outputs": [],
   "source": [
    "import matplotlib.pyplot as plt \n",
    "plt.boxplot(data['tenure'])\n",
    "plt.show()"
   ]
  },
  {
   "cell_type": "code",
   "execution_count": null,
   "id": "495eac6f-b27e-4caa-b442-dcf74f1422eb",
   "metadata": {},
   "outputs": [],
   "source": [
    "plt.boxplot(data['MonthlyCharges'])\n",
    "plt.show()"
   ]
  },
  {
   "cell_type": "code",
   "execution_count": null,
   "id": "9364e854-5efe-464a-9d72-9ddfd6aba5f1",
   "metadata": {},
   "outputs": [],
   "source": [
    "X = data.drop(\"Churn\", axis=1)\n",
    "y = data[\"Churn\"]\n",
    "# Split the dataset into training and testing sets\n",
    "X_train, X_test, y_train, y_test = train_test_split(X, y, test_size=0.2, random_state=42)"
   ]
  },
  {
   "cell_type": "code",
   "execution_count": null,
   "id": "b2b13815-e660-4c61-ad13-74556d5d7d55",
   "metadata": {},
   "outputs": [],
   "source": [
    "X_train.shape"
   ]
  },
  {
   "cell_type": "code",
   "execution_count": null,
   "id": "c857abd6-d469-4646-b195-653924c30b07",
   "metadata": {},
   "outputs": [],
   "source": [
    "y_train.shape"
   ]
  },
  {
   "cell_type": "code",
   "execution_count": null,
   "id": "2e0ac616-489f-4121-9ec8-25c41a9ad918",
   "metadata": {},
   "outputs": [],
   "source": [
    "X_test.shape"
   ]
  },
  {
   "cell_type": "code",
   "execution_count": null,
   "id": "90150e14-bea2-489c-86f7-f7808cde19cc",
   "metadata": {},
   "outputs": [],
   "source": [
    "y_test.shape"
   ]
  },
  {
   "cell_type": "code",
   "execution_count": null,
   "id": "b316a3ea-6060-4e24-96ad-01c95efb8bcc",
   "metadata": {},
   "outputs": [],
   "source": [
    "data.to_csv(\"Cleaned_Telecom_Customer_Churn.csv\", index=False)\n",
    "# Export the cleaned dataset to a CSV file"
   ]
  },
  {
   "cell_type": "code",
   "execution_count": null,
   "id": "1b166164-c4f6-4215-aaaa-913a9ba92691",
   "metadata": {},
   "outputs": [],
   "source": []
  }
 ],
 "metadata": {
  "kernelspec": {
   "display_name": ".venv",
   "language": "python",
   "name": "python3"
  },
  "language_info": {
   "codemirror_mode": {
    "name": "ipython",
    "version": 3
   },
   "file_extension": ".py",
   "mimetype": "text/x-python",
   "name": "python",
   "nbconvert_exporter": "python",
   "pygments_lexer": "ipython3",
   "version": "3.12.6"
  },
  "widgets": {
   "application/vnd.jupyter.widget-state+json": {
    "state": {},
    "version_major": 2,
    "version_minor": 0
   }
  }
 },
 "nbformat": 4,
 "nbformat_minor": 5
}
