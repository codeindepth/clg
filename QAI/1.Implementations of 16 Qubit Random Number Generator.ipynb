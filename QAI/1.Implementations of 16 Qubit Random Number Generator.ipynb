{
 "cells": [
  {
   "cell_type": "markdown",
   "metadata": {
    "id": "7TDGC9QqpeXe"
   },
   "source": [
    "#### Prerequisite Libraries"
   ]
  },
  {
   "cell_type": "code",
   "execution_count": 3,
   "metadata": {
    "colab": {
     "base_uri": "https://localhost:8080/"
    },
    "collapsed": true,
    "executionInfo": {
     "elapsed": 5647,
     "status": "ok",
     "timestamp": 1727245964220,
     "user": {
      "displayName": "Vedant Andhale",
      "userId": "02021452861721042365"
     },
     "user_tz": -330
    },
    "id": "W6RaFI81ceul",
    "jupyter": {
     "outputs_hidden": true
    },
    "outputId": "651231bd-510a-4559-a520-552090d52d16"
   },
   "outputs": [
    {
     "name": "stdout",
     "output_type": "stream",
     "text": [
      "Requirement already satisfied: qiskit in /usr/local/lib/python3.10/dist-packages (1.2.2)\n",
      "Requirement already satisfied: qiskit-aer in /usr/local/lib/python3.10/dist-packages (0.15.1)\n",
      "Requirement already satisfied: pylatexenc in /usr/local/lib/python3.10/dist-packages (2.10)\n",
      "Requirement already satisfied: matplotlib in /usr/local/lib/python3.10/dist-packages (3.7.1)\n",
      "Requirement already satisfied: rustworkx>=0.15.0 in /usr/local/lib/python3.10/dist-packages (from qiskit) (0.15.1)\n",
      "Requirement already satisfied: numpy<3,>=1.17 in /usr/local/lib/python3.10/dist-packages (from qiskit) (1.26.4)\n",
      "Requirement already satisfied: scipy>=1.5 in /usr/local/lib/python3.10/dist-packages (from qiskit) (1.13.1)\n",
      "Requirement already satisfied: sympy>=1.3 in /usr/local/lib/python3.10/dist-packages (from qiskit) (1.13.3)\n",
      "Requirement already satisfied: dill>=0.3 in /usr/local/lib/python3.10/dist-packages (from qiskit) (0.3.8)\n",
      "Requirement already satisfied: python-dateutil>=2.8.0 in /usr/local/lib/python3.10/dist-packages (from qiskit) (2.8.2)\n",
      "Requirement already satisfied: stevedore>=3.0.0 in /usr/local/lib/python3.10/dist-packages (from qiskit) (5.3.0)\n",
      "Requirement already satisfied: typing-extensions in /usr/local/lib/python3.10/dist-packages (from qiskit) (4.12.2)\n",
      "Requirement already satisfied: symengine>=0.11 in /usr/local/lib/python3.10/dist-packages (from qiskit) (0.11.0)\n",
      "Requirement already satisfied: psutil>=5 in /usr/local/lib/python3.10/dist-packages (from qiskit-aer) (5.9.5)\n",
      "Requirement already satisfied: contourpy>=1.0.1 in /usr/local/lib/python3.10/dist-packages (from matplotlib) (1.3.0)\n",
      "Requirement already satisfied: cycler>=0.10 in /usr/local/lib/python3.10/dist-packages (from matplotlib) (0.12.1)\n",
      "Requirement already satisfied: fonttools>=4.22.0 in /usr/local/lib/python3.10/dist-packages (from matplotlib) (4.53.1)\n",
      "Requirement already satisfied: kiwisolver>=1.0.1 in /usr/local/lib/python3.10/dist-packages (from matplotlib) (1.4.7)\n",
      "Requirement already satisfied: packaging>=20.0 in /usr/local/lib/python3.10/dist-packages (from matplotlib) (24.1)\n",
      "Requirement already satisfied: pillow>=6.2.0 in /usr/local/lib/python3.10/dist-packages (from matplotlib) (10.4.0)\n",
      "Requirement already satisfied: pyparsing>=2.3.1 in /usr/local/lib/python3.10/dist-packages (from matplotlib) (3.1.4)\n",
      "Requirement already satisfied: six>=1.5 in /usr/local/lib/python3.10/dist-packages (from python-dateutil>=2.8.0->qiskit) (1.16.0)\n",
      "Requirement already satisfied: pbr>=2.0.0 in /usr/local/lib/python3.10/dist-packages (from stevedore>=3.0.0->qiskit) (6.1.0)\n",
      "Requirement already satisfied: mpmath<1.4,>=1.1.0 in /usr/local/lib/python3.10/dist-packages (from sympy>=1.3->qiskit) (1.3.0)\n"
     ]
    }
   ],
   "source": [
    "!pip install qiskit qiskit-aer pylatexenc matplotlib"
   ]
  },
  {
   "cell_type": "markdown",
   "metadata": {
    "id": "AXASou07psVO"
   },
   "source": [
    "#### Code and Output\n"
   ]
  },
  {
   "cell_type": "code",
   "execution_count": null,
   "metadata": {
    "colab": {
     "base_uri": "https://localhost:8080/",
     "height": 1000
    },
    "executionInfo": {
     "elapsed": 72819,
     "status": "ok",
     "timestamp": 1727245471793,
     "user": {
      "displayName": "Vedant Andhale",
      "userId": "02021452861721042365"
     },
     "user_tz": -330
    },
    "id": "_6umeuVEcZv-",
    "outputId": "50740354-17cd-4ba6-8c31-2339e54a7cc2"
   },
   "outputs": [],
   "source": [
    "from qiskit import QuantumCircuit, transpile\n",
    "from qiskit_aer import Aer\n",
    "import matplotlib.pyplot as plt\n",
    "\n",
    "def generate_random_number():\n",
    "    # Create a quantum circuit with 16 qubits\n",
    "    circuit = QuantumCircuit(16, 16)\n",
    "    # Apply Hadamard gates to put all qubits in superposition\n",
    "    circuit.h(range(16))\n",
    "    # Measure all qubits\n",
    "    circuit.measure(range(16), range(16))\n",
    "    # Simulate the quantum circuit using the QASM simulator\n",
    "    simulator = Aer.get_backend('qasm_simulator')\n",
    "    compiled_circuit = transpile(circuit, simulator)\n",
    "    job = simulator.run(compiled_circuit, shots=1)\n",
    "    result = job.result()\n",
    "    counts = result.get_counts(circuit)\n",
    "    # Extract the random number from the measurement outcome\n",
    "    bitstring = list(counts.keys())[0]\n",
    "    random_number = int(bitstring, 2)\n",
    "    return random_number, bitstring\n",
    "\n",
    "# Generate 1000 random numbers\n",
    "random_numbers = [generate_random_number()[0] for _ in range(1000)]\n",
    "\n",
    "# Plot histogram\n",
    "plt.figure(figsize=(12, 6))\n",
    "plt.hist(random_numbers, bins=50, edgecolor='black')\n",
    "plt.title('Distribution of 16-Qubit QRNG Output')\n",
    "plt.xlabel('Generated Number')\n",
    "plt.ylabel('Frequency')\n",
    "plt.show()\n",
    "\n",
    "# Visualize the circuit\n",
    "circuit = QuantumCircuit(16, 16)\n",
    "circuit.h(range(16))\n",
    "circuit.measure(range(16), range(16))\n",
    "print(\"\\nQuantum Circuit:\")\n",
    "print(circuit)\n",
    "\n",
    "\n",
    "# Generate and display a single random number\n",
    "single_random_number, binary_representation = generate_random_number()\n",
    "print(f\"\\nSingle Random Number Generation:\")\n",
    "print(f\"Random number (decimal): {single_random_number}\")\n",
    "print(f\"Random number (binary): {binary_representation}\\n\")\n",
    "\n",
    "# Print statistics\n",
    "print(f\"\\nStatistics\")\n",
    "print(f\"Min: {min(random_numbers)}\")\n",
    "print(f\"Max: {max(random_numbers)}\")\n",
    "print(f\"Mean: {sum(random_numbers) / len(random_numbers)}\")\n",
    "\n",
    "# Visualize the circuit draw\n",
    "circuit.draw(output='mpl')"
   ]
  },
  {
   "cell_type": "code",
   "execution_count": null,
   "metadata": {},
   "outputs": [],
   "source": []
  }
 ],
 "metadata": {
  "colab": {
   "authorship_tag": "ABX9TyP5Yl/hatCamkWjYXsQl7Mr",
   "provenance": []
  },
  "kernelspec": {
   "display_name": "Python 3 (ipykernel)",
   "language": "python",
   "name": "python3"
  },
  "language_info": {
   "codemirror_mode": {
    "name": "ipython",
    "version": 3
   },
   "file_extension": ".py",
   "mimetype": "text/x-python",
   "name": "python",
   "nbconvert_exporter": "python",
   "pygments_lexer": "ipython3",
   "version": "3.12.6"
  }
 },
 "nbformat": 4,
 "nbformat_minor": 4
}
