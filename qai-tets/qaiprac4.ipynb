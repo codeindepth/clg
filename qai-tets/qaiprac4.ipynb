{
 "cells": [
  {
   "cell_type": "markdown",
   "metadata": {},
   "source": [
    "## 4. Implement Quantum Teleportation algorithm in Python\n"
   ]
  },
  {
   "cell_type": "markdown",
   "metadata": {
    "id": "HVZ4NZMbBguQ"
   },
   "source": [
    "#### Prerequisite Libraries"
   ]
  },
  {
   "cell_type": "code",
   "execution_count": 1,
   "metadata": {
    "colab": {
     "base_uri": "https://localhost:8080/"
    },
    "executionInfo": {
     "elapsed": 16635,
     "status": "ok",
     "timestamp": 1728197785698,
     "user": {
      "displayName": "Vedant Andhale",
      "userId": "02021452861721042365"
     },
     "user_tz": -330
    },
    "id": "JxehOSVzCLvh",
    "outputId": "77b86227-d114-4bf2-ce59-f25db3d27793"
   },
   "outputs": [
    {
     "name": "stdout",
     "output_type": "stream",
     "text": [
      "Requirement already satisfied: qiskit in c:\\users\\kumar\\appdata\\local\\programs\\python\\python312\\lib\\site-packages (1.1.0)\n",
      "Requirement already satisfied: qiskit-aer in c:\\users\\kumar\\appdata\\local\\programs\\python\\python312\\lib\\site-packages (0.15.1)\n",
      "Requirement already satisfied: rustworkx>=0.14.0 in c:\\users\\kumar\\appdata\\local\\programs\\python\\python312\\lib\\site-packages (from qiskit) (0.15.1)\n",
      "Requirement already satisfied: numpy<3,>=1.17 in c:\\users\\kumar\\appdata\\local\\programs\\python\\python312\\lib\\site-packages (from qiskit) (1.26.4)\n",
      "Requirement already satisfied: scipy>=1.5 in c:\\users\\kumar\\appdata\\local\\programs\\python\\python312\\lib\\site-packages (from qiskit) (1.13.0)\n",
      "Requirement already satisfied: sympy>=1.3 in c:\\users\\kumar\\appdata\\local\\programs\\python\\python312\\lib\\site-packages (from qiskit) (1.12)\n",
      "Requirement already satisfied: dill>=0.3 in c:\\users\\kumar\\appdata\\local\\programs\\python\\python312\\lib\\site-packages (from qiskit) (0.3.9)\n",
      "Requirement already satisfied: python-dateutil>=2.8.0 in c:\\users\\kumar\\appdata\\local\\programs\\python\\python312\\lib\\site-packages (from qiskit) (2.9.0.post0)\n",
      "Requirement already satisfied: stevedore>=3.0.0 in c:\\users\\kumar\\appdata\\local\\programs\\python\\python312\\lib\\site-packages (from qiskit) (5.3.0)\n",
      "Requirement already satisfied: typing-extensions in c:\\users\\kumar\\appdata\\local\\programs\\python\\python312\\lib\\site-packages (from qiskit) (4.11.0)\n",
      "Requirement already satisfied: symengine>=0.11 in c:\\users\\kumar\\appdata\\local\\programs\\python\\python312\\lib\\site-packages (from qiskit) (0.13.0)\n",
      "Requirement already satisfied: psutil>=5 in c:\\users\\kumar\\appdata\\local\\programs\\python\\python312\\lib\\site-packages (from qiskit-aer) (5.9.8)\n",
      "Requirement already satisfied: six>=1.5 in c:\\users\\kumar\\appdata\\local\\programs\\python\\python312\\lib\\site-packages (from python-dateutil>=2.8.0->qiskit) (1.16.0)\n",
      "Requirement already satisfied: pbr>=2.0.0 in c:\\users\\kumar\\appdata\\local\\programs\\python\\python312\\lib\\site-packages (from stevedore>=3.0.0->qiskit) (6.1.0)\n",
      "Requirement already satisfied: mpmath>=0.19 in c:\\users\\kumar\\appdata\\local\\programs\\python\\python312\\lib\\site-packages (from sympy>=1.3->qiskit) (1.3.0)\n"
     ]
    }
   ],
   "source": [
    "!pip install qiskit qiskit-aer"
   ]
  },
  {
   "cell_type": "markdown",
   "metadata": {
    "id": "4HeYerx3BtIh"
   },
   "source": [
    "#### Code and Output\n"
   ]
  },
  {
   "cell_type": "code",
   "execution_count": 3,
   "metadata": {
    "colab": {
     "base_uri": "https://localhost:8080/"
    },
    "executionInfo": {
     "elapsed": 517,
     "status": "ok",
     "timestamp": 1728197786205,
     "user": {
      "displayName": "Vedant Andhale",
      "userId": "02021452861721042365"
     },
     "user_tz": -330
    },
    "id": "5kKNVBPoDNk5",
    "outputId": "ae66f7f9-c02e-46f4-e240-c4df405783d8"
   },
   "outputs": [
    {
     "name": "stdout",
     "output_type": "stream",
     "text": [
      "Quantum Teleportation Circuit:\n",
      "     ┌─────────────────┐          ┌───┐┌─┐           \n",
      "q_0: ┤ Initialize(0,1) ├───────■──┤ H ├┤M├──────■────\n",
      "     └──────┬───┬──────┘     ┌─┴─┐└┬─┬┘└╥┘      │    \n",
      "q_1: ───────┤ H ├─────────■──┤ X ├─┤M├──╫───■───┼────\n",
      "            └───┘       ┌─┴─┐└───┘ └╥┘  ║ ┌─┴─┐ │ ┌─┐\n",
      "q_2: ───────────────────┤ X ├───────╫───╫─┤ X ├─■─┤M├\n",
      "                        └───┘       ║   ║ └───┘   └╥┘\n",
      "c: 3/═══════════════════════════════╩═══╩══════════╩═\n",
      "                                    1   0          2 \n",
      "\n",
      "Teleported state:\n",
      "{'101': 262, '100': 251, '110': 263, '111': 248}\n"
     ]
    }
   ],
   "source": [
    "from qiskit import QuantumCircuit, transpile\n",
    "from qiskit.visualization import plot_histogram\n",
    "from qiskit_aer import Aer\n",
    "\n",
    "# Step 1: Create a quantum circuit with 3 qubits and 3 classical bits\n",
    "qc = QuantumCircuit(3, 3)\n",
    "\n",
    "# Step 2: Initialize the first qubit to |1⟩ (or |0,1⟩)\n",
    "qc.initialize([0, 1], 0)\n",
    "\n",
    "# Step 3: Create the entanglement between qubit 1 and qubit 2\n",
    "qc.h(1)\n",
    "qc.cx(1, 2)\n",
    "\n",
    "# Step 4: Bell measurement on qubit 0 and qubit 1\n",
    "qc.cx(0, 1)\n",
    "qc.h(0)\n",
    "\n",
    "# Step 5: Measure qubits 0 and 1\n",
    "qc.measure([0, 1], [0, 1])\n",
    "\n",
    "# Step 6: Apply conditional operations based on the measurement outcomes\n",
    "qc.cx(1, 2)  # If the result is 1 for qubit 1, apply X gate to qubit 2\n",
    "qc.cz(0, 2)  # If the result is 1 for qubit 0, apply Z gate to qubit 2\n",
    "\n",
    "# Step 7: Measure the final state of qubit 2\n",
    "qc.measure(2, 2)\n",
    "\n",
    "# Step 8: Draw the quantum circuit\n",
    "print(\"Quantum Teleportation Circuit:\")\n",
    "print(qc.draw(output='text'))\n",
    "\n",
    "# Step 9: Simulate the circuit using qiskit-aer\n",
    "simulator = Aer.get_backend('qasm_simulator')\n",
    "compiled_circuit = transpile(qc, simulator)\n",
    "\n",
    "# Step 10: Run the simulation\n",
    "job = simulator.run(compiled_circuit, shots=1024)\n",
    "result = job.result()\n",
    "\n",
    "# Step 11: Get the counts of the measurement results\n",
    "counts = result.get_counts(qc)\n",
    "print(\"\\nTeleported state:\")\n",
    "print(counts)\n"
   ]
  },
  {
   "cell_type": "code",
   "execution_count": 4,
   "metadata": {
    "colab": {
     "base_uri": "https://localhost:8080/",
     "height": 446
    },
    "executionInfo": {
     "elapsed": 825,
     "status": "ok",
     "timestamp": 1728197790240,
     "user": {
      "displayName": "Vedant Andhale",
      "userId": "02021452861721042365"
     },
     "user_tz": -330
    },
    "id": "-CXGe1KKkqb4",
    "outputId": "18233895-7db7-4b1e-ad84-249ce140949b"
   },
   "outputs": [
    {
     "data": {
      "image/png": "[encoded data removed]",
      "text/plain": [
       "<Figure size 640x480 with 1 Axes>"
      ]
     },
     "execution_count": 4,
     "metadata": {},
     "output_type": "execute_result"
    }
   ],
   "source": [
    "plot_histogram(counts)\n"
   ]
  },
  {
   "cell_type": "code",
   "execution_count": 3,
   "metadata": {
    "executionInfo": {
     "elapsed": 6,
     "status": "ok",
     "timestamp": 1728197786206,
     "user": {
      "displayName": "Vedant Andhale",
      "userId": "02021452861721042365"
     },
     "user_tz": -330
    },
    "id": "F74Zfx--nMhN"
   },
   "outputs": [],
   "source": []
  }
 ],
 "metadata": {
  "colab": {
   "authorship_tag": "ABX9TyPG17tMnbWOFx4GbbDHtwBZ",
   "provenance": []
  },
  "kernelspec": {
   "display_name": ".venv",
   "language": "python",
   "name": "python3"
  },
  "language_info": {
   "codemirror_mode": {
    "name": "ipython",
    "version": 3
   },
   "file_extension": ".py",
   "mimetype": "text/x-python",
   "name": "python",
   "nbconvert_exporter": "python",
   "pygments_lexer": "ipython3",
   "version": "3.12.6"
  },
  "widgets": {
   "application/vnd.jupyter.widget-state+json": {
    "state": {},
    "version_major": 2,
    "version_minor": 0
   }
  }
 },
 "nbformat": 4,
 "nbformat_minor": 4
}
