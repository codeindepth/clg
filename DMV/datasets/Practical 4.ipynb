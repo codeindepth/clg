{
 "cells": [
  {
   "cell_type": "markdown",
   "id": "1ec7368e",
   "metadata": {
    "id": "1ec7368e"
   },
   "source": [
    "# Title : Data Wrangling on Real Estate Market"
   ]
  },
  {
   "cell_type": "code",
   "execution_count": null,
   "id": "f9cfc508",
   "metadata": {
    "id": "f9cfc508"
   },
   "outputs": [],
   "source": [
    "import pandas as pd\n",
    "import numpy as np\n",
    "from matplotlib import pyplot as plt"
   ]
  },
  {
   "cell_type": "code",
   "execution_count": null,
   "id": "8705349f",
   "metadata": {
    "id": "8705349f"
   },
   "outputs": [],
   "source": [
    "df = pd.read_csv(\"datasets/Bengaluru_House_Data.csv\")"
   ]
  },
  {
   "cell_type": "code",
   "execution_count": null,
   "id": "KIRik_7tVXQr",
   "metadata": {
    "colab": {
     "base_uri": "https://localhost:8080/"
    },
    "id": "KIRik_7tVXQr",
    "outputId": "88006795-7431-40e4-a08a-88d78cbc0ea3"
   },
   "outputs": [],
   "source": [
    "\n",
    "def clean_column_names(df):\n",
    "\n",
    "  new_column_names = []\n",
    "  for column_name in df.columns:\n",
    "    new_column_name = column_name.strip().replace(\" \", \"_\").replace(\"-\", \"_\")\n",
    "    new_column_names.append(new_column_name)\n",
    "  df.columns = new_column_names\n",
    "  return df\n",
    "\n",
    "\n",
    "def explore_dataset(df):\n",
    "\n",
    "  print(\"Dataset Shape:\", df.shape)\n",
    "  print(\"\\nDataset Info:\")\n",
    "  print(df.info())\n",
    "  print(\"\\nColumn Names:\", df.columns.tolist())\n",
    "  print(\"\\nDescriptive Statistics:\")\n",
    "  print(df.describe(include='all'))\n",
    "  print(\"\\nMissing Values:\\n\", df.isnull().sum())\n",
    "\n",
    "\n",
    "df = clean_column_names(df)\n",
    "\n",
    "explore_dataset(df)\n"
   ]
  },
  {
   "cell_type": "code",
   "execution_count": null,
   "id": "A0qXGlerV8gb",
   "metadata": {
    "colab": {
     "base_uri": "https://localhost:8080/"
    },
    "id": "A0qXGlerV8gb",
    "outputId": "e1179428-f936-4f35-e298-c7465d299904"
   },
   "outputs": [],
   "source": [
    "# prompt: 2. Handle missing values in the dataset, deciding on an appropriate strategy\n",
    "# 3. Perform data merging if additional datasets with relevant information are available\n",
    "# (e.g., neighborhood demographics or nearby amenities).\n",
    "# use modular/func approach\n",
    "\n",
    "def handle_missing_values(df):\n",
    "\n",
    "  print(df.isna().sum())\n",
    "  # Example: Fill missing values in 'society' with 'Unknown'\n",
    "  df['society'].fillna('Unknown', inplace=True)\n",
    "\n",
    "  # Example: Fill missing values in 'balcony' with the median\n",
    "  df['balcony'].fillna(df['balcony'].median(), inplace=True)\n",
    "\n",
    "  # You can choose different strategies based on the column and its importance.\n",
    "  # For example, for numerical columns, you might use median imputation\n",
    "  # for categorical columns, you might use mode imputation or create a 'missing' category.\n",
    "  # You can also drop rows or columns with a high percentage of missing values.\n",
    "\n",
    "  return df\n",
    "\n",
    "def merge_datasets(df, additional_df, on_column):\n",
    "  \"\"\"\n",
    "  Merges the dataset with an additional dataset.\n",
    "\n",
    "  Args:\n",
    "    df: pandas DataFrame.\n",
    "    additional_df: pandas DataFrame.\n",
    "    on_column: Column to merge on.\n",
    "\n",
    "  Returns:\n",
    "    Merged pandas DataFrame.\n",
    "  \"\"\"\n",
    "  merged_df = pd.merge(df, additional_df, on=on_column, how='left')\n",
    "  return merged_df\n",
    "\n",
    "\n",
    "\n",
    "# Example usage:\n",
    "# Assuming you have a 'neighborhood_demographics.csv' file with neighborhood and demographic information\n",
    "# and you want to merge using the 'location' column:\n",
    "# neighborhood_df = pd.read_csv('neighborhood_demographics.csv')\n",
    "# df = merge_datasets(df, neighborhood_df, on_column='location')\n",
    "\n",
    "# Handle missing values\n",
    "df = handle_missing_values(df)\n",
    "\n",
    "# Explore the dataset again to check if missing values are handled\n",
    "explore_dataset(df)"
   ]
  },
  {
   "cell_type": "code",
   "execution_count": null,
   "id": "ZhM0ha2uYdQ7",
   "metadata": {
    "colab": {
     "base_uri": "https://localhost:8080/"
    },
    "id": "ZhM0ha2uYdQ7",
    "outputId": "cc72e9ec-5ea6-4e7b-fb17-e294424442a0"
   },
   "outputs": [],
   "source": [
    "# prompt: 4. Filter and subset the data based on specific criteria, such as a particular time period,\n",
    "# property type, or location.\n",
    "# 5. Handle categorical variables by encoding them appropriately for further analysis.\n",
    "# use modular/func approach\n",
    "\n",
    "def filter_subset_data(df, criteria):\n",
    "  \"\"\"\n",
    "  Filters and subsets the dataset based on specific criteria.\n",
    "\n",
    "  Args:\n",
    "    df: pandas DataFrame.\n",
    "    criteria: A dictionary of filter criteria,\n",
    "              e.g., {'area_type': 'Super built-up  Area', 'availability': 'Ready To Move'}\n",
    "\n",
    "  Returns:\n",
    "    Filtered pandas DataFrame.\n",
    "  \"\"\"\n",
    "  filtered_df = df.copy()\n",
    "  for column, value in criteria.items():\n",
    "    filtered_df = filtered_df[filtered_df[column] == value]\n",
    "  return filtered_df\n",
    "\n",
    "\n",
    "def encode_categorical_variables(df, columns_to_encode):\n",
    "  \"\"\"\n",
    "  Encodes categorical variables using one-hot encoding.\n",
    "\n",
    "  Args:\n",
    "    df: pandas DataFrame.\n",
    "    columns_to_encode: A list of columns to be encoded.\n",
    "\n",
    "  Returns:\n",
    "    pandas DataFrame with encoded variables.\n",
    "  \"\"\"\n",
    "  encoded_df = pd.get_dummies(df, columns=columns_to_encode, dummy_na=True)\n",
    "  return encoded_df\n",
    "\n",
    "\n",
    "\n",
    "# Example usage:\n",
    "\n",
    "# 1. Filter data for properties in a specific location and with a particular area type\n",
    "criteria = {'location': 'Whitefield', 'area_type': 'Super built-up  Area'}\n",
    "filtered_df = filter_subset_data(df, criteria)\n",
    "print(filtered_df.shape)\n",
    "\n",
    "# 2. Encode categorical variables like 'area_type', 'availability', and 'location'\n",
    "columns_to_encode = ['area_type', 'availability', 'location']\n",
    "encoded_df = encode_categorical_variables(df, columns_to_encode)\n",
    "print(encoded_df)\n",
    "print(encoded_df.shape)\n",
    "print(encoded_df.columns)"
   ]
  },
  {
   "cell_type": "code",
   "execution_count": null,
   "id": "rkEXRegdZYHI",
   "metadata": {
    "colab": {
     "base_uri": "https://localhost:8080/",
     "height": 1000
    },
    "id": "rkEXRegdZYHI",
    "outputId": "7dbb8bb0-1188-4455-f5d1-423c3b403da0"
   },
   "outputs": [],
   "source": [
    "# prompt: 6. Aggregate the data to calculate summary statistics or derived metrics such as average\n",
    "# sale prices by neighborhood or property type.\n",
    "# 7. Identify and handle outliers or extreme values in the data that may affect the analysis\n",
    "# or modeling process use can use before and after viz.\n",
    "# use modular/func approach\n",
    "\n",
    "def aggregate_data(df):\n",
    "  \"\"\"\n",
    "  Aggregates the data to calculate summary statistics or derived metrics.\n",
    "\n",
    "  Args:\n",
    "    df: pandas DataFrame.\n",
    "\n",
    "  Returns:\n",
    "    pandas DataFrame with aggregated data.\n",
    "  \"\"\"\n",
    "  # Calculate average sale prices by location\n",
    "  average_price_by_location = df.groupby('location')['price'].mean()\n",
    "  print(\"Average Sale Prices by Location:\\n\", average_price_by_location)\n",
    "\n",
    "  # Calculate average sale prices by property type\n",
    "  average_price_by_area_type = df.groupby('area_type')['price'].mean()\n",
    "  print(\"\\nAverage Sale Prices by Property Type:\\n\", average_price_by_area_type)\n",
    "\n",
    "  # Add more aggregation as needed, like median prices, total sales by location, etc.\n",
    "  return average_price_by_location, average_price_by_area_type\n",
    "\n",
    "\n",
    "def identify_handle_outliers(df, column):\n",
    "  \"\"\"\n",
    "  Identifies and handles outliers in a specific column.\n",
    "\n",
    "  Args:\n",
    "    df: pandas DataFrame.\n",
    "    column: The name of the column to analyze.\n",
    "\n",
    "  Returns:\n",
    "    pandas DataFrame with outliers handled.\n",
    "  \"\"\"\n",
    "  # Calculate the IQR (Interquartile Range)\n",
    "  Q1 = df[column].quantile(0.25)\n",
    "  Q3 = df[column].quantile(0.75)\n",
    "  IQR = Q3 - Q1\n",
    "\n",
    "  # Define the lower and upper bounds for outliers\n",
    "  lower_bound = Q1 - 1.5 * IQR\n",
    "  upper_bound = Q3 + 1.5 * IQR\n",
    "\n",
    "  # Identify outliers\n",
    "  outliers = df[(df[column] < lower_bound) | (df[column] > upper_bound)]\n",
    "  print(\"Outliers in\", column, \":\\n\", outliers)\n",
    "\n",
    "  # Visualization before handling outliers\n",
    "  plt.figure(figsize=(10, 6))\n",
    "  plt.boxplot(df[column])\n",
    "  plt.title(f\"Boxplot of {column} Before Handling Outliers\")\n",
    "  plt.show()\n",
    "\n",
    "\n",
    "  # You can choose how to handle outliers, e.g., replace with bounds, remove them, etc.\n",
    "  # Here, we'll replace outliers with the bounds\n",
    "  df[column] = np.where(df[column] < lower_bound, lower_bound, df[column])\n",
    "  df[column] = np.where(df[column] > upper_bound, upper_bound, df[column])\n",
    "\n",
    "  # Visualization after handling outliers\n",
    "  plt.figure(figsize=(10, 6))\n",
    "  plt.boxplot(df[column])\n",
    "  plt.title(f\"Boxplot of {column} After Handling Outliers\")\n",
    "  plt.show()\n",
    "\n",
    "  return df\n",
    "\n",
    "\n",
    "\n",
    "# Example usage:\n",
    "# 1. Aggregate data for average sale prices by neighborhood and property type\n",
    "average_price_by_location, average_price_by_area_type = aggregate_data(df)\n",
    "\n",
    "# 2. Identify and handle outliers in the 'price' column\n",
    "df = identify_handle_outliers(df, 'price')"
   ]
  },
  {
   "cell_type": "code",
   "execution_count": null,
   "id": "30e616dd",
   "metadata": {
    "colab": {
     "base_uri": "https://localhost:8080/",
     "height": 293
    },
    "id": "30e616dd",
    "outputId": "abf59939-22f6-45ff-e7ac-bfc86d2e4dc8"
   },
   "outputs": [],
   "source": [
    "df1.head()"
   ]
  },
  {
   "cell_type": "code",
   "execution_count": null,
   "id": "36d0ba35",
   "metadata": {
    "colab": {
     "base_uri": "https://localhost:8080/"
    },
    "id": "36d0ba35",
    "outputId": "b5cd0859-6eea-41d7-eb16-ce365783325d"
   },
   "outputs": [],
   "source": [
    "df1.shape"
   ]
  },
  {
   "cell_type": "code",
   "execution_count": null,
   "id": "94157746",
   "metadata": {
    "colab": {
     "base_uri": "https://localhost:8080/"
    },
    "id": "94157746",
    "outputId": "933f78c9-1f1a-45af-e916-7ee943d742b3"
   },
   "outputs": [],
   "source": [
    "df1.columns"
   ]
  },
  {
   "cell_type": "code",
   "execution_count": null,
   "id": "e2d3cc15",
   "metadata": {
    "colab": {
     "base_uri": "https://localhost:8080/",
     "height": 459
    },
    "id": "e2d3cc15",
    "outputId": "a13f60c4-bb60-46dd-b624-0abec38c63f0"
   },
   "outputs": [],
   "source": [
    "df1['area_type']"
   ]
  },
  {
   "cell_type": "code",
   "execution_count": null,
   "id": "45b88540",
   "metadata": {
    "colab": {
     "base_uri": "https://localhost:8080/"
    },
    "id": "45b88540",
    "outputId": "f4bdff25-9dea-4f03-9bcd-afc645d95b5c"
   },
   "outputs": [],
   "source": [
    "df1['area_type'].unique()"
   ]
  },
  {
   "cell_type": "code",
   "execution_count": null,
   "id": "038188ca",
   "metadata": {
    "colab": {
     "base_uri": "https://localhost:8080/",
     "height": 241
    },
    "id": "038188ca",
    "outputId": "4d9f3ded-390a-4895-9455-20bee200fadb"
   },
   "outputs": [],
   "source": [
    "df1['area_type'].value_counts()"
   ]
  },
  {
   "cell_type": "code",
   "execution_count": null,
   "id": "a484f9b7",
   "metadata": {
    "id": "a484f9b7"
   },
   "outputs": [],
   "source": [
    "df2 = df1.drop(['area_type','society','balcony','availability'],axis='columns')"
   ]
  },
  {
   "cell_type": "code",
   "execution_count": null,
   "id": "221c1f7d",
   "metadata": {
    "colab": {
     "base_uri": "https://localhost:8080/"
    },
    "id": "221c1f7d",
    "outputId": "76245f42-d76b-4113-ccae-f1f0fdc12063"
   },
   "outputs": [],
   "source": [
    "df2.shape"
   ]
  },
  {
   "cell_type": "code",
   "execution_count": null,
   "id": "775fdbc7",
   "metadata": {
    "colab": {
     "base_uri": "https://localhost:8080/",
     "height": 241
    },
    "id": "775fdbc7",
    "outputId": "3556332d-1f91-42eb-cb2c-adf2a82a7881"
   },
   "outputs": [],
   "source": [
    "df2.isnull().sum()"
   ]
  },
  {
   "cell_type": "code",
   "execution_count": null,
   "id": "d44c2176",
   "metadata": {
    "colab": {
     "base_uri": "https://localhost:8080/"
    },
    "id": "d44c2176",
    "outputId": "ee5d8a81-3741-41a0-ed7e-a623e2c1b6fe"
   },
   "outputs": [],
   "source": [
    "df2.shape"
   ]
  },
  {
   "cell_type": "code",
   "execution_count": null,
   "id": "4bdc4f08",
   "metadata": {
    "colab": {
     "base_uri": "https://localhost:8080/",
     "height": 241
    },
    "id": "4bdc4f08",
    "outputId": "136d4f2f-b6d1-4d14-85f9-3dd9c2d6d2cb"
   },
   "outputs": [],
   "source": [
    "df3 = df2.dropna()\n",
    "df3.isnull().sum()"
   ]
  },
  {
   "cell_type": "code",
   "execution_count": null,
   "id": "7cbbadde",
   "metadata": {
    "colab": {
     "base_uri": "https://localhost:8080/"
    },
    "id": "7cbbadde",
    "outputId": "cee4762a-b513-4753-ff76-3a1430433a4f"
   },
   "outputs": [],
   "source": [
    "df3.shape"
   ]
  },
  {
   "cell_type": "code",
   "execution_count": null,
   "id": "855a836d",
   "metadata": {
    "colab": {
     "base_uri": "https://localhost:8080/"
    },
    "id": "855a836d",
    "outputId": "139dedd1-5456-412d-99d8-8f1ed6ade516"
   },
   "outputs": [],
   "source": [
    "df3['size'].unique()"
   ]
  },
  {
   "cell_type": "code",
   "execution_count": null,
   "id": "270e9b35",
   "metadata": {
    "colab": {
     "base_uri": "https://localhost:8080/"
    },
    "id": "270e9b35",
    "outputId": "c3b4a1bb-d907-489c-c5ec-ae0450cf4461"
   },
   "outputs": [],
   "source": [
    "df3['bhk'] = df3['size'].apply(lambda x: int(x.split(' ')[0]))"
   ]
  },
  {
   "cell_type": "code",
   "execution_count": null,
   "id": "51b6afda",
   "metadata": {
    "colab": {
     "base_uri": "https://localhost:8080/",
     "height": 206
    },
    "id": "51b6afda",
    "outputId": "76ee2202-cc22-4a27-a7f9-b8ece518c08b"
   },
   "outputs": [],
   "source": [
    "df3.head()"
   ]
  },
  {
   "cell_type": "code",
   "execution_count": null,
   "id": "e8ec6621",
   "metadata": {
    "colab": {
     "base_uri": "https://localhost:8080/"
    },
    "id": "e8ec6621",
    "outputId": "c06ce5ad-1950-481c-fa33-02eecd9597ff"
   },
   "outputs": [],
   "source": [
    "df3.bhk.unique()"
   ]
  },
  {
   "cell_type": "code",
   "execution_count": null,
   "id": "2cb2241f",
   "metadata": {
    "colab": {
     "base_uri": "https://localhost:8080/",
     "height": 112
    },
    "id": "2cb2241f",
    "outputId": "ac177a41-627f-4f8c-f801-12e513972e6d"
   },
   "outputs": [],
   "source": [
    "df3[df3.bhk>20]"
   ]
  },
  {
   "cell_type": "code",
   "execution_count": null,
   "id": "10118a35",
   "metadata": {
    "colab": {
     "base_uri": "https://localhost:8080/"
    },
    "id": "10118a35",
    "outputId": "6aeddee0-40a6-477c-d50a-34626d0fb494"
   },
   "outputs": [],
   "source": [
    "df3.total_sqft.unique()"
   ]
  },
  {
   "cell_type": "code",
   "execution_count": null,
   "id": "b9fbdca9",
   "metadata": {
    "id": "b9fbdca9"
   },
   "outputs": [],
   "source": [
    "def is_float(x):\n",
    "    try:\n",
    "        float(x)\n",
    "        return True\n",
    "    except(ValueError, TypeError):\n",
    "        return False"
   ]
  },
  {
   "cell_type": "code",
   "execution_count": null,
   "id": "8572313e",
   "metadata": {
    "colab": {
     "base_uri": "https://localhost:8080/",
     "height": 363
    },
    "id": "8572313e",
    "outputId": "591665ae-00f8-4e01-aa4a-c1daac426038"
   },
   "outputs": [],
   "source": [
    "df3[~df3['total_sqft'].apply(is_float)].head(10)"
   ]
  },
  {
   "cell_type": "code",
   "execution_count": null,
   "id": "bf97d1ff",
   "metadata": {
    "colab": {
     "base_uri": "https://localhost:8080/"
    },
    "id": "bf97d1ff",
    "outputId": "84f07797-39ff-48b4-dfd2-e81b04f6aad0"
   },
   "outputs": [],
   "source": [
    "def convert_sqft_to_num(x):\n",
    "    tokens = x.split('-')\n",
    "    if len(tokens) == 2:\n",
    "        try:\n",
    "            return (float(tokens[0])+float(tokens[1]))/2\n",
    "        except ValueError:\n",
    "            return None\n",
    "    try:\n",
    "        return float(x)\n",
    "    except ValueError:\n",
    "        return None\n",
    "\n",
    "result = convert_sqft_to_num('2100 - 2850')\n",
    "print(result)"
   ]
  },
  {
   "cell_type": "code",
   "execution_count": null,
   "id": "81433c9f",
   "metadata": {
    "colab": {
     "base_uri": "https://localhost:8080/",
     "height": 424
    },
    "id": "81433c9f",
    "outputId": "bd104d53-3ee8-4b14-8418-0f75bf677c8f"
   },
   "outputs": [],
   "source": [
    "convert_sqft_to_num('34.46Sq. Meter')\n",
    "df4 = df3.copy()\n",
    "df4.total_sqft = df4.total_sqft.apply(convert_sqft_to_num)\n",
    "df4"
   ]
  },
  {
   "cell_type": "code",
   "execution_count": null,
   "id": "98f33691",
   "metadata": {
    "colab": {
     "base_uri": "https://localhost:8080/",
     "height": 424
    },
    "id": "98f33691",
    "outputId": "7fd192f3-1d93-47c4-c10f-c5fe99ed13b1"
   },
   "outputs": [],
   "source": [
    "df4 = df4[df4.total_sqft.notnull()]\n",
    "df4"
   ]
  },
  {
   "cell_type": "code",
   "execution_count": null,
   "id": "9b3ce3df",
   "metadata": {
    "colab": {
     "base_uri": "https://localhost:8080/",
     "height": 272
    },
    "id": "9b3ce3df",
    "outputId": "fc6b9239-e978-47cd-98ac-82ca7bf235a4"
   },
   "outputs": [],
   "source": [
    "df4.loc[30]"
   ]
  },
  {
   "cell_type": "code",
   "execution_count": null,
   "id": "b5a1caab",
   "metadata": {
    "colab": {
     "base_uri": "https://localhost:8080/",
     "height": 206
    },
    "id": "b5a1caab",
    "outputId": "26facb5a-2999-4f14-fbbc-c12eb73f92bd"
   },
   "outputs": [],
   "source": [
    "df5 = df4.copy()\n",
    "df5['price_per_sqft'] = df5['price']*100000/df5['total_sqft']\n",
    "df5.head()"
   ]
  },
  {
   "cell_type": "code",
   "execution_count": null,
   "id": "c33074c9",
   "metadata": {
    "colab": {
     "base_uri": "https://localhost:8080/",
     "height": 335
    },
    "id": "c33074c9",
    "outputId": "97cf6e4d-2c47-4486-ddfd-97434e6dc060"
   },
   "outputs": [],
   "source": [
    "df5_stats = df5['price_per_sqft'].describe()\n",
    "df5_stats"
   ]
  },
  {
   "cell_type": "code",
   "execution_count": null,
   "id": "dba62a8e",
   "metadata": {
    "colab": {
     "base_uri": "https://localhost:8080/",
     "height": 287
    },
    "id": "dba62a8e",
    "outputId": "c7676062-315d-4ef1-fc0a-2a19aee9d713"
   },
   "outputs": [],
   "source": [
    "df5.to_csv(\"./datasets/bhp.csv\",index=False)"
   ]
  },
  {
   "cell_type": "code",
   "execution_count": null,
   "id": "60fb77b4",
   "metadata": {
    "id": "60fb77b4"
   },
   "outputs": [],
   "source": [
    "df5.location = df5.location.apply(lambda x: x.strip())\n",
    "location_stats = df5['location'].value_counts(ascending=False)\n",
    "location_stats"
   ]
  },
  {
   "cell_type": "code",
   "execution_count": null,
   "id": "15e06a1b",
   "metadata": {
    "id": "15e06a1b"
   },
   "outputs": [],
   "source": [
    "len(location_stats[location_stats>10])"
   ]
  },
  {
   "cell_type": "code",
   "execution_count": null,
   "id": "d3a218d2",
   "metadata": {
    "id": "d3a218d2"
   },
   "outputs": [],
   "source": [
    "len(location_stats)"
   ]
  },
  {
   "cell_type": "code",
   "execution_count": null,
   "id": "cd0d49b5",
   "metadata": {
    "id": "cd0d49b5"
   },
   "outputs": [],
   "source": [
    "len(location_stats[location_stats<=10])"
   ]
  },
  {
   "cell_type": "code",
   "execution_count": null,
   "id": "6850f39b",
   "metadata": {
    "id": "6850f39b"
   },
   "outputs": [],
   "source": [
    "location_stats_less_than_10 = location_stats[location_stats<=10]\n",
    "location_stats_less_than_10"
   ]
  },
  {
   "cell_type": "code",
   "execution_count": null,
   "id": "777501a9",
   "metadata": {
    "id": "777501a9"
   },
   "outputs": [],
   "source": [
    "len(df5.location.unique())"
   ]
  },
  {
   "cell_type": "code",
   "execution_count": null,
   "id": "0339491e",
   "metadata": {
    "id": "0339491e"
   },
   "outputs": [],
   "source": [
    "df5.location = df5.location.apply(lambda x: 'other' if x in location_stats_less_than_10 else x)\n",
    "len(df5.location.unique())"
   ]
  },
  {
   "cell_type": "code",
   "execution_count": null,
   "id": "e8ce741e",
   "metadata": {
    "id": "e8ce741e"
   },
   "outputs": [],
   "source": [
    "df5.head(10)"
   ]
  },
  {
   "cell_type": "code",
   "execution_count": null,
   "id": "78f51828",
   "metadata": {
    "id": "78f51828"
   },
   "outputs": [],
   "source": [
    "df5[df5.total_sqft/df5.bhk<300].head()"
   ]
  },
  {
   "cell_type": "code",
   "execution_count": null,
   "id": "0539df90",
   "metadata": {
    "id": "0539df90"
   },
   "outputs": [],
   "source": [
    "df5.shape"
   ]
  },
  {
   "cell_type": "code",
   "execution_count": null,
   "id": "d44d7f02",
   "metadata": {
    "id": "d44d7f02"
   },
   "outputs": [],
   "source": [
    "df6 = df5[~(df5.total_sqft/df5.bhk<300)]\n",
    "df6.shape"
   ]
  },
  {
   "cell_type": "code",
   "execution_count": null,
   "id": "07959089",
   "metadata": {
    "id": "07959089"
   },
   "outputs": [],
   "source": [
    "df6.columns"
   ]
  },
  {
   "cell_type": "code",
   "execution_count": null,
   "id": "cf040936",
   "metadata": {
    "id": "cf040936"
   },
   "outputs": [],
   "source": [
    "plt.boxplot(df6['total_sqft'])\n",
    "plt.show()"
   ]
  },
  {
   "cell_type": "code",
   "execution_count": null,
   "id": "50246ee9",
   "metadata": {
    "id": "50246ee9"
   },
   "outputs": [],
   "source": [
    "Q1 = np.percentile(df6['total_sqft'], 25.) # 25th percentile of the data of the given feature\n",
    "Q3 = np.percentile(df6['total_sqft'], 75.) # 75th percentile of the data of the given feature\n",
    "IQR = Q3-Q1 #Interquartile Range\n",
    "ll = Q1 - (1.5*IQR)\n",
    "ul = Q3 + (1.5*IQR)\n",
    "upper_outliers = df6[df6['total_sqft'] > ul].index.tolist()\n",
    "lower_outliers = df6[df6['total_sqft'] < ll].index.tolist()\n",
    "bad_indices = list(set(upper_outliers + lower_outliers))\n",
    "drop = True\n",
    "if drop:\n",
    "    df6.drop(bad_indices, inplace = True, errors = 'ignore')\n",
    "\n",
    "plt.boxplot(df6['bath'])\n",
    "plt.show()"
   ]
  },
  {
   "cell_type": "code",
   "execution_count": null,
   "id": "ba55f31b",
   "metadata": {
    "id": "ba55f31b"
   },
   "outputs": [],
   "source": [
    "Q1 = np.percentile(df6['bath'], 25.) # 25th percentile of the data of the given feature\n",
    "Q3 = np.percentile(df6['bath'], 75.) # 75th percentile of the data of the given feature\n",
    "IQR = Q3-Q1 #Interquartile Range\n",
    "ll = Q1 - (1.5*IQR)\n",
    "ul = Q3 + (1.5*IQR)\n",
    "upper_outliers = df6[df6['bath'] > ul].index.tolist()\n",
    "lower_outliers = df6[df6['bath'] < ll].index.tolist()\n",
    "bad_indices = list(set(upper_outliers + lower_outliers))\n",
    "drop = True\n",
    "if drop:\n",
    "    df6.drop(bad_indices, inplace = True, errors = 'ignore')\n",
    "plt.boxplot(df6['price'])\n",
    "plt.show()"
   ]
  },
  {
   "cell_type": "code",
   "execution_count": null,
   "id": "538d4d77",
   "metadata": {
    "id": "538d4d77"
   },
   "outputs": [],
   "source": [
    "Q1 = np.percentile(df6['price'], 25.) # 25th percentile of the data of the given feature\n",
    "Q3 = np.percentile(df6['price'], 75.) # 75th percentile of the data of the given feature\n",
    "IQR = Q3-Q1 #Interquartile Range\n",
    "ll = Q1 - (1.5*IQR)\n",
    "ul = Q3 + (1.5*IQR)\n",
    "\n",
    "upper_outliers = df6[df6['price'] > ul].index.tolist()\n",
    "lower_outliers = df6[df6['price'] < ll].index.tolist()\n",
    "bad_indices = list(set(upper_outliers + lower_outliers))\n",
    "drop = True\n",
    "if drop:\n",
    "    df6.drop(bad_indices, inplace = True, errors = 'ignore')\n",
    "\n",
    "plt.boxplot(df6['bhk'])\n",
    "plt.show()"
   ]
  },
  {
   "cell_type": "code",
   "execution_count": null,
   "id": "d68bb31d",
   "metadata": {
    "id": "d68bb31d"
   },
   "outputs": [],
   "source": [
    "Q1 = np.percentile(df6['bhk'], 25.) # 25th percentile of the data of the given feature\n",
    "Q3 = np.percentile(df6['bhk'], 75.) # 75th percentile of the data of the given feature\n",
    "IQR = Q3-Q1 #Interquartile Range\n",
    "ll = Q1 - (1.5*IQR)\n",
    "ul = Q3 + (1.5*IQR)\n",
    "upper_outliers = df6[df6['bhk'] > ul].index.tolist()\n",
    "lower_outliers = df6[df6['bhk'] < ll].index.tolist()\n",
    "bad_indices = list(set(upper_outliers + lower_outliers))\n",
    "drop = True\n",
    "if drop:\n",
    "    df6.drop(bad_indices, inplace = True, errors = 'ignore')\n",
    "\n",
    "plt.boxplot(df6['price_per_sqft'])\n",
    "plt.show()"
   ]
  },
  {
   "cell_type": "code",
   "execution_count": null,
   "id": "f76d50a3",
   "metadata": {
    "id": "f76d50a3"
   },
   "outputs": [],
   "source": [
    "Q1 = np.percentile(df6['price_per_sqft'], 25.) # 25th percentile of the data of the given feature\n",
    "Q3 = np.percentile(df6['price_per_sqft'], 75.) # 75th percentile of the data of the given feature\n",
    "IQR = Q3-Q1 #Interquartile Range\n",
    "ll = Q1 - (1.5*IQR)\n",
    "ul = Q3 + (1.5*IQR)\n",
    "upper_outliers = df6[df6['price_per_sqft'] > ul].index.tolist()\n",
    "lower_outliers = df6[df6['price_per_sqft'] < ll].index.tolist()\n",
    "bad_indices = list(set(upper_outliers + lower_outliers))\n",
    "drop = True\n",
    "if drop:\n",
    "    df6.drop(bad_indices, inplace = True, errors = 'ignore')\n",
    "\n",
    "plt.boxplot(df6['price_per_sqft'])\n",
    "plt.show()"
   ]
  },
  {
   "cell_type": "code",
   "execution_count": null,
   "id": "2e9181bb",
   "metadata": {
    "id": "2e9181bb"
   },
   "outputs": [],
   "source": [
    "df6.shape"
   ]
  },
  {
   "cell_type": "code",
   "execution_count": null,
   "id": "cf8752cb",
   "metadata": {
    "id": "cf8752cb"
   },
   "outputs": [],
   "source": [
    "X = df6.drop(['price'],axis='columns')\n",
    "X.head(3)"
   ]
  },
  {
   "cell_type": "code",
   "execution_count": null,
   "id": "7edccfe1",
   "metadata": {
    "id": "7edccfe1"
   },
   "outputs": [],
   "source": [
    "X.shape"
   ]
  },
  {
   "cell_type": "code",
   "execution_count": null,
   "id": "7e0fca4a",
   "metadata": {
    "id": "7e0fca4a"
   },
   "outputs": [],
   "source": [
    "y = df6.price\n",
    "y.head(3)"
   ]
  },
  {
   "cell_type": "code",
   "execution_count": null,
   "id": "8ebd0ed7",
   "metadata": {
    "id": "8ebd0ed7"
   },
   "outputs": [],
   "source": [
    "len(y)"
   ]
  },
  {
   "cell_type": "code",
   "execution_count": null,
   "id": "93251430",
   "metadata": {
    "id": "93251430"
   },
   "outputs": [],
   "source": [
    "from sklearn.model_selection import train_test_split\n",
    "X_train, X_test, y_train, y_test = train_test_split(X,y,test_size=0.2,random_state=10)\n",
    "\n",
    "X_train.shape"
   ]
  },
  {
   "cell_type": "code",
   "execution_count": null,
   "id": "44dc16bd",
   "metadata": {
    "id": "44dc16bd"
   },
   "outputs": [],
   "source": [
    "y_train.shape"
   ]
  },
  {
   "cell_type": "code",
   "execution_count": null,
   "id": "22c06a6b",
   "metadata": {
    "id": "22c06a6b"
   },
   "outputs": [],
   "source": [
    "X_test.shape"
   ]
  },
  {
   "cell_type": "code",
   "execution_count": null,
   "id": "8d8412b5",
   "metadata": {
    "id": "8d8412b5"
   },
   "outputs": [],
   "source": [
    "y_test.shape"
   ]
  },
  {
   "cell_type": "code",
   "execution_count": null,
   "id": "03177fd7",
   "metadata": {
    "id": "03177fd7"
   },
   "outputs": [],
   "source": []
  }
 ],
 "metadata": {
  "colab": {
   "provenance": []
  },
  "kernelspec": {
   "display_name": "Python 3 (ipykernel)",
   "language": "python",
   "name": "python3"
  },
  "language_info": {
   "codemirror_mode": {
    "name": "ipython",
    "version": 3
   },
   "file_extension": ".py",
   "mimetype": "text/x-python",
   "name": "python",
   "nbconvert_exporter": "python",
   "pygments_lexer": "ipython3",
   "version": "3.12.6"
  }
 },
 "nbformat": 4,
 "nbformat_minor": 5
}
